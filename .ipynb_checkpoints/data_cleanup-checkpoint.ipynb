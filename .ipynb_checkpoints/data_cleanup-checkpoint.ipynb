{
 "cells": [
  {
   "cell_type": "code",
   "execution_count": 1,
   "id": "eeb3f106",
   "metadata": {},
   "outputs": [],
   "source": [
    "import os\n",
    "import shutil\n",
    "import random\n",
    "\n",
    "def move_random_files(src_folder, dst_folder, num_files):\n",
    "    files = os.listdir(src_folder)\n",
    "    random_files = random.sample(files, num_files)\n",
    "\n",
    "    if not os.path.exists(dst_folder):\n",
    "        os.makedirs(dst_folder)\n",
    "\n",
    "    for file in random_files:\n",
    "        src_file_path = os.path.join(src_folder, file)\n",
    "        dst_file_path = os.path.join(dst_folder, file)\n",
    "        shutil.move(src_file_path, dst_file_path)\n",
    "\n",
    "src_folder = 'ny2/'\n",
    "dst_folder = 'sny2/'\n",
    "num_files = 1129\n",
    "\n",
    "move_random_files(src_folder, dst_folder, num_files)\n"
   ]
  },
  {
   "cell_type": "code",
   "execution_count": null,
   "id": "cff84c70",
   "metadata": {},
   "outputs": [],
   "source": [
    "def copy_files(src_dir, dest_dir, new_dir):\n",
    "    if not os.path.exists(new_dir):\n",
    "        os.makedirs(new_dir)\n",
    "    src_files = os.listdir(src_dir)\n",
    "    dest_files = os.listdir(dest_dir)\n",
    "    src_names = [os.path.splitext(file)[0] for file in src_files]\n",
    "    dest_names = [os.path.splitext(file)[0] for file in dest_files]\n",
    "    files_to_copy = [file for file in src_files if os.path.splitext(file)[0] not in dest_names]\n",
    "    for file in files_to_copy:\n",
    "        shutil.copy(os.path.join(src_dir, file), new_dir)\n",
    "\n",
    "src_dir = 'ph4'\n",
    "dest_dir = 'images'\n",
    "new_dir = 'blur_images'\n",
    "\n",
    "copy_files(src_dir, dest_dir, new_dir)\n"
   ]
  },
  {
   "cell_type": "code",
   "execution_count": 1,
   "id": "5f3d76e4",
   "metadata": {},
   "outputs": [],
   "source": [
    "from PIL import Image\n",
    "import os\n",
    "\n",
    "def resize_image(input_image_path, output_image_path, size):\n",
    "    original_image = Image.open(input_image_path)\n",
    "    width, height = original_image.size\n",
    "    max_dim = max(width, height)\n",
    "    new_image = Image.new(\"RGB\", (max_dim, max_dim), (255, 255, 0))\n",
    "    new_image.paste(original_image, ((max_dim - width) // 2, (max_dim - height) // 2))\n",
    "    new_image.thumbnail(size)\n",
    "    new_image.save(output_image_path)\n",
    "\n",
    "def bulk_resize_images(image_folder, output_folder, size=(256, 256)):\n",
    "    if not os.path.exists(output_folder):\n",
    "        os.makedirs(output_folder)\n",
    "\n",
    "    for filename in os.listdir(image_folder):\n",
    "        if filename.endswith(\".jpg\") or filename.endswith(\".png\"):\n",
    "            resize_image(os.path.join(image_folder, filename), os.path.join(output_folder, filename), \n",
    "                         size)\n",
    "\n",
    "bulk_resize_images(\"pngs2/\", \"final_imgs/\")\n"
   ]
  }
 ],
 "metadata": {
  "kernelspec": {
   "display_name": "Python 3 (ipykernel)",
   "language": "python",
   "name": "python3"
  },
  "language_info": {
   "codemirror_mode": {
    "name": "ipython",
    "version": 3
   },
   "file_extension": ".py",
   "mimetype": "text/x-python",
   "name": "python",
   "nbconvert_exporter": "python",
   "pygments_lexer": "ipython3",
   "version": "3.9.13"
  }
 },
 "nbformat": 4,
 "nbformat_minor": 5
}
