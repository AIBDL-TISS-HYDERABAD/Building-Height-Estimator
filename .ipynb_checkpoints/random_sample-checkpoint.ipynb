{
 "cells": [
  {
   "cell_type": "code",
   "execution_count": 1,
   "id": "eeb3f106",
   "metadata": {},
   "outputs": [],
   "source": [
    "import os\n",
    "import shutil\n",
    "import random\n",
    "\n",
    "def move_random_files(src_folder, dst_folder, num_files):\n",
    "    files = os.listdir(src_folder)\n",
    "    random_files = random.sample(files, num_files)\n",
    "\n",
    "    if not os.path.exists(dst_folder):\n",
    "        os.makedirs(dst_folder)\n",
    "\n",
    "    for file in random_files:\n",
    "        src_file_path = os.path.join(src_folder, file)\n",
    "        dst_file_path = os.path.join(dst_folder, file)\n",
    "        shutil.move(src_file_path, dst_file_path)\n",
    "\n",
    "src_folder = 'ny2/'\n",
    "dst_folder = 'sny2/'\n",
    "num_files = 1129\n",
    "\n",
    "move_random_files(src_folder, dst_folder, num_files)\n"
   ]
  }
 ],
 "metadata": {
  "kernelspec": {
   "display_name": "Python 3 (ipykernel)",
   "language": "python",
   "name": "python3"
  },
  "language_info": {
   "codemirror_mode": {
    "name": "ipython",
    "version": 3
   },
   "file_extension": ".py",
   "mimetype": "text/x-python",
   "name": "python",
   "nbconvert_exporter": "python",
   "pygments_lexer": "ipython3",
   "version": "3.9.13"
  }
 },
 "nbformat": 4,
 "nbformat_minor": 5
}
